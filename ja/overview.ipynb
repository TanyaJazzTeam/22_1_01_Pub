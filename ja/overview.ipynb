{
  "cells": [
    {
      "cell_type": "markdown",
      "metadata": {
        "id": "6XvCUmCEd4Dm"
      },
      "source": [
        "# TensorFlow データセット\n",
        "\n",
        "TFDS は、TensorFlow、Jax、およびその他の機械学習フレームワークで使用するための、すぐに使用できるデータセットのコレクションを提供します。\n",
        "\n",
        "データのダウンロードと準備を決定論的に処理し、 `tf.data.Dataset` (または`np.array` ) を構築します。\n",
        "\n",
        "注: [TFDS](https://www.tensorflow.org/datasets) (このライブラリ) と`tf.data` (効率的なデータ パイプラインを構築するための TensorFlow API) を混同しないでください。 TFDS は、 `tf.data`の高レベルのラッパーです。この API に慣れていない場合は、まず[公式の tf.data ガイド](https://www.tensorflow.org/guide/data)を読むことをお勧めします。\n"
      ]
    },
    {
      "cell_type": "markdown",
      "metadata": {
        "id": "J8y9ZkLXmAZc"
      },
      "source": [
        "Copyright 2018 The TensorFlow Datasets Authors、Apache License、バージョン 2.0 に基づいてライセンス供与"
      ]
    },
    {
      "cell_type": "markdown",
      "metadata": {
        "id": "OGw9EgE0tC0C"
      },
      "source": [
        "<table class=\"tfo-notebook-buttons\" align=\"left\">\n",
        "  <td>     <a target=\"_blank\" href=\"https://www.tensorflow.org/datasets/overview\"><img src=\"https://www.tensorflow.org/images/tf_logo_32px.png\">TensorFlow.org で見る</a>\n",
        "</td>\n",
        "  <td>     <a target=\"_blank\" href=\"https://colab.research.google.com/github/tensorflow/datasets/blob/master/docs/overview.ipynb\"><img src=\"https://www.tensorflow.org/images/colab_logo_32px.png\">Google Colab で実行する</a>\n",
        "</td>\n",
        "  <td>     <a target=\"_blank\" href=\"https://github.com/tensorflow/datasets/blob/master/docs/overview.ipynb\"><img src=\"https://www.tensorflow.org/images/GitHub-Mark-32px.png\">GitHub でソースを表示</a>\n",
        "</td>\n",
        "  <td>     <a href=\"https://storage.googleapis.com/tensorflow_docs/datasets/docs/overview.ipynb\"><img src=\"https://www.tensorflow.org/images/download_logo_32px.png\">Download notebook</a>\n",
        "</td>\n",
        "</table>"
      ]
    },
    {
      "cell_type": "markdown",
      "metadata": {
        "id": "_7hshda5eaGL"
      },
      "source": [
        "## インストール\n",
        "\n",
        "TFDS は 2 つのパッケージで存在します。\n",
        "\n",
        "- `pip install tensorflow-datasets` : 数か月ごとにリリースされる安定バージョン。\n",
        "- `pip install tfds-nightly` : 毎日リリースされ、データセットの最新バージョンが含まれます。\n",
        "\n",
        "この colab は`tfds-nightly`を使用します。\n"
      ]
    },
    {
      "cell_type": "code",
      "execution_count": null,
      "metadata": {
        "cellView": "both",
        "id": "boeZp0sYbO41"
      },
      "outputs": [

      ],
      "source": [
        "!pip install -q tfds-nightly tensorflow matplotlib"
      ]
    },
    {
      "cell_type": "code",
      "execution_count": null,
      "metadata": {
        "id": "TTBSvHcSLBzc"
      },
      "outputs": [

      ],
      "source": [
        "import matplotlib.pyplot as plt\n",
        "import numpy as np\n",
        "import tensorflow as tf\n",
        "\n",
        "import tensorflow_datasets as tfds"
      ]
    },
    {
      "cell_type": "markdown",
      "metadata": {
        "id": "VZZyuO13fPvk"
      },
      "source": [
        "## 利用可能なデータセットを見つける\n",
        "\n",
        "すべてのデータセット ビルダーは`tfds.core.DatasetBuilder`のサブクラスです。利用可能なビルダーのリストを取得するには、 `tfds.list_builders()`を使用するか、[カタログ](https://www.tensorflow.org/datasets/catalog/overview)を参照してください。"
      ]
    },
    {
      "cell_type": "code",
      "execution_count": null,
      "metadata": {
        "id": "FAvbSVzjLCIb"
      },
      "outputs": [

      ],
      "source": [
        "tfds.list_builders()"
      ]
    },
    {
      "cell_type": "markdown",
      "metadata": {
        "id": "VjI6VgOBf0v0"
      },
      "source": [
        "## データセットをロードする\n",
        "\n",
        "### tfds.load\n",
        "\n",
        "データセットをロードする最も簡単な方法は`tfds.load`です。それは：\n",
        "\n",
        "1. データをダウンロードし、 [`tfrecord`](https://www.tensorflow.org/tutorials/load_data/tfrecord)ファイルとして保存します。\n",
        "2. `tfrecord`をロードし、 `tf.data.Dataset`を作成します。\n"
      ]
    },
    {
      "cell_type": "code",
      "execution_count": null,
      "metadata": {
        "id": "dCou80mnLLPV"
      },
      "outputs": [

      ],
      "source": [
        "ds = tfds.load('mnist', split='train', shuffle_files=True)\n",
        "assert isinstance(ds, tf.data.Dataset)\n",
        "print(ds)"
      ]
    },
    {
      "cell_type": "markdown",
      "metadata": {
        "id": "byOXYCEJS7S6"
      },
      "source": [
        "いくつかの一般的な議論:\n",
        "\n",
        "- `split=` : どの分割を読み取るか (例: `'train'` 、 `['train', 'test']` 、 `'train[80%:]'` 、...)。[分割 API ガイドを](https://www.tensorflow.org/datasets/splits)参照してください。\n",
        "- `shuffle_files=` : 各エポック間でファイルをシャッフルするかどうかを制御します (TFDS は大きなデータセットを複数の小さなファイルに保存します)。\n",
        "- `data_dir=` : データセットが保存される場所 (デフォルトは`~/tensorflow_datasets/` )\n",
        "- `with_info=True` : データセットのメタデータを含む`tfds.core.DatasetInfo`を返します。\n",
        "- `download=False` : ダウンロードを無効にします\n"
      ]
    },
    {
      "cell_type": "markdown",
      "metadata": {
        "id": "qeNmFx_1RXCb"
      },
      "source": [
        "### tfds.builder\n",
        "\n",
        "`tfds.load` 、 `tfds.core.DatasetBuilder`の薄いラッパーです。 `tfds.core.DatasetBuilder` API を使用して同じ出力を取得できます。"
      ]
    },
    {
      "cell_type": "code",
      "execution_count": null,
      "metadata": {
        "id": "2zN_jQ2ER40W"
      },
      "outputs": [

      ],
      "source": [
        "builder = tfds.builder('mnist')\n",
        "# 1. Create the tfrecord files (no-op if already exists)\n",
        "builder.download_and_prepare()\n",
        "# 2. Load the `tf.data.Dataset`\n",
        "ds = builder.as_dataset(split='train', shuffle_files=True)\n",
        "print(ds)"
      ]
    },
    {
      "cell_type": "markdown",
      "metadata": {
        "id": "IwrjccfjoQCD"
      },
      "source": [
        "### `tfds build` CLI\n",
        "\n",
        "特定のデータセットを生成したい場合は、[`tfds`コマンド ライン](https://www.tensorflow.org/datasets/cli)を使用できます。例えば：\n",
        "\n",
        "```sh\n",
        "tfds build mnist\n",
        "```\n",
        "\n",
        "利用可能なフラグについては[ドキュメントを](https://www.tensorflow.org/datasets/cli)参照してください。"
      ]
    },
    {
      "cell_type": "markdown",
      "metadata": {
        "id": "aW132I-rbJXE"
      },
      "source": [
        "## データセットを反復処理する\n",
        "\n",
        "### 辞書として\n",
        "\n",
        "デフォルトでは、 `tf.data.Dataset`オブジェクトには`tf.Tensor`の`dict`含まれています。"
      ]
    },
    {
      "cell_type": "code",
      "execution_count": null,
      "metadata": {
        "id": "JAGjXdk_bIYQ"
      },
      "outputs": [

      ],
      "source": [
        "ds = tfds.load('mnist', split='train')\n",
        "ds = ds.take(1)  # Only take a single example\n",
        "\n",
        "for example in ds:  # example is `{'image': tf.Tensor, 'label': tf.Tensor}`\n",
        "  print(list(example.keys()))\n",
        "  image = example[\"image\"]\n",
        "  label = example[\"label\"]\n",
        "  print(image.shape, label)"
      ]
    },
    {
      "cell_type": "markdown",
      "metadata": {
        "id": "sIqX2bmhu-8d"
      },
      "source": [
        "`dict`キーの名前と構造を確認するには、[カタログ](https://www.tensorflow.org/datasets/catalog/overview#all_datasets)内のデータセットのドキュメントを参照してください。例: [mnist ドキュメント](https://www.tensorflow.org/datasets/catalog/mnist)。"
      ]
    },
    {
      "cell_type": "markdown",
      "metadata": {
        "id": "umAtqBBqdkDG"
      },
      "source": [
        "### タプルとして ( `as_supervised=True` )\n",
        "\n",
        "`as_supervised=True`を使用すると、教師ありデータセットの代わりにタプル`(features, label)`を取得できます。"
      ]
    },
    {
      "cell_type": "code",
      "execution_count": null,
      "metadata": {
        "id": "nJ4O0xy3djfV"
      },
      "outputs": [

      ],
      "source": [
        "ds = tfds.load('mnist', split='train', as_supervised=True)\n",
        "ds = ds.take(1)\n",
        "\n",
        "for image, label in ds:  # example is (image, label)\n",
        "  print(image.shape, label)"
      ]
    },
    {
      "cell_type": "markdown",
      "metadata": {
        "id": "u9palgyHfEwQ"
      },
      "source": [
        "### numpy として ( `tfds.as_numpy` )\n",
        "\n",
        "`tfds.as_numpy`を使用して以下を変換します。\n",
        "\n",
        "- `tf.Tensor` -&gt; `np.array`\n",
        "- `tf.data.Dataset` -&gt; `Iterator[Tree[np.array]]` ( `Tree`任意のネストされた`Dict` 、 `Tuple`にすることができます)\n"
      ]
    },
    {
      "cell_type": "code",
      "execution_count": null,
      "metadata": {
        "id": "tzQTCUkAfe9R"
      },
      "outputs": [

      ],
      "source": [
        "ds = tfds.load('mnist', split='train', as_supervised=True)\n",
        "ds = ds.take(1)\n",
        "\n",
        "for image, label in tfds.as_numpy(ds):\n",
        "  print(type(image), type(label), label)"
      ]
    },
    {
      "cell_type": "markdown",
      "metadata": {
        "id": "XaRN-LdXUkl_"
      },
      "source": [
        "### バッチ化された tf.Tensor ( `batch_size=-1` ) として\n",
        "\n",
        "`batch_size=-1`を使用すると、単一のバッチで完全なデータセットを読み込むことができます。\n",
        "\n",
        "This can be combined with `as_supervised=True` and `tfds.as_numpy` to get the the data as `(np.array, np.array)`:\n"
      ]
    },
    {
      "cell_type": "code",
      "execution_count": null,
      "metadata": {
        "id": "Gg8BNsv-UzFl"
      },
      "outputs": [

      ],
      "source": [
        "image, label = tfds.as_numpy(tfds.load(\n",
        "    'mnist',\n",
        "    split='test',\n",
        "    batch_size=-1,\n",
        "    as_supervised=True,\n",
        "))\n",
        "\n",
        "print(type(image), image.shape)"
      ]
    },
    {
      "cell_type": "markdown",
      "metadata": {
        "id": "kRJrB3L6wgKI"
      },
      "source": [
        "データセットがメモリに収まることと、すべての例が同じ形状であることに注意してください。"
      ]
    },
    {
      "cell_type": "markdown",
      "metadata": {
        "id": "heaKNg7-X4jN"
      },
      "source": [
        "## データセットのベンチマークを行う\n",
        "\n",
        "データセットのベンチマークは、任意の反復可能オブジェクト (例: `tf.data.Dataset` 、 `tfds.as_numpy`など) に対する単純な`tfds.benchmark`呼び出しです。\n"
      ]
    },
    {
      "cell_type": "code",
      "execution_count": null,
      "metadata": {
        "id": "ZyQzZ98bX3dM"
      },
      "outputs": [

      ],
      "source": [
        "ds = tfds.load('mnist', split='train')\n",
        "ds = ds.batch(32).prefetch(1)\n",
        "\n",
        "tfds.benchmark(ds, batch_size=32)\n",
        "tfds.benchmark(ds, batch_size=32)  # Second epoch much faster due to auto-caching"
      ]
    },
    {
      "cell_type": "markdown",
      "metadata": {
        "id": "MT0yEX_4kYnV"
      },
      "source": [
        "- バッチ サイズごとに結果を正規化することを忘れないでください`batch_size=` kwarg を使用します。\n",
        "- 要約すると、最初のウォームアップ バッチは、 `tf.data.Dataset`追加のセットアップ時間 (バッファの初期化など) をキャプチャするために他のバッチから分離されています。\n",
        "- [TFDS 自動キャッシュ](https://www.tensorflow.org/datasets/performances#auto-caching)のおかげで、2 回目の反復がどのように高速になっているかに注目してください。\n",
        "- `tfds.benchmark`さらなる分析のために検査できる`tfds.core.BenchmarkResult`を返します。"
      ]
    },
    {
      "cell_type": "markdown",
      "metadata": {
        "id": "o-cuwvVbeb43"
      },
      "source": [
        "### エンドツーエンドのパイプラインを構築する\n",
        "\n",
        "さらに詳しく見ると、次のようになります。\n",
        "\n",
        "- 完全なトレーニング パイプライン (バッチ処理、シャッフルなど) を確認するための[エンドツーエンドの Keras の例](https://www.tensorflow.org/datasets/keras_example)。\n",
        "- パイプラインの速度を向上させるための[パフォーマンス ガイド](https://www.tensorflow.org/datasets/performances)(ヒント: データセットのベンチマークには`tfds.benchmark(ds)`を使用します)。\n"
      ]
    },
    {
      "cell_type": "markdown",
      "metadata": {
        "id": "gTRTEQqscxAE"
      },
      "source": [
        "## 視覚化\n",
        "\n",
        "### tfds.as_dataframe\n",
        "\n",
        "`tf.data.Dataset`オブジェクトは、 <code>tfds.as_dataframe</code>を使用して<a><code data-md-type=\"codespan\">pandas.DataFrame</code></a>に変換し、 [Colab](https://colab.research.google.com)で視覚化できます。\n",
        "\n",
        "- 画像、音声、テキスト、ビデオなどを視覚化するには、 `tfds.as_dataframe`の 2 番目の引数として`tfds.core.DatasetInfo`を追加します。\n",
        "- 最初の`x`個の例のみを表示するには、 `ds.take(x)`を使用します。 `pandas.DataFrame`完全なデータセットをメモリ内にロードするため、表示に非常にコストがかかる可能性があります。"
      ]
    },
    {
      "cell_type": "code",
      "execution_count": null,
      "metadata": {
        "id": "FKouwN_yVSGQ"
      },
      "outputs": [

      ],
      "source": [
        "ds, info = tfds.load('mnist', split='train', with_info=True)\n",
        "\n",
        "tfds.as_dataframe(ds.take(4), info)"
      ]
    },
    {
      "cell_type": "markdown",
      "metadata": {
        "id": "b-eDO_EXVGWC"
      },
      "source": [
        "### tfds.show_examples\n",
        "\n",
        "`tfds.show_examples` `matplotlib.figure.Figure`を返します (現在サポートされているのは画像データセットのみです)。"
      ]
    },
    {
      "cell_type": "code",
      "execution_count": null,
      "metadata": {
        "id": "DpE2FD56cSQR"
      },
      "outputs": [

      ],
      "source": [
        "ds, info = tfds.load('mnist', split='train', with_info=True)\n",
        "\n",
        "fig = tfds.show_examples(ds, info)"
      ]
    },
    {
      "cell_type": "markdown",
      "metadata": {
        "id": "Y0iVVStvk0oI"
      },
      "source": [
        "## データセットのメタデータにアクセスする\n",
        "\n",
        "すべてのビルダーには、データセットのメタデータを含む`tfds.core.DatasetInfo`オブジェクトが含まれています。\n",
        "\n",
        "次の方法でアクセスできます。\n",
        "\n",
        "- `tfds.load` API:\n"
      ]
    },
    {
      "cell_type": "code",
      "execution_count": null,
      "metadata": {
        "id": "UgLgtcd1ljzt"
      },
      "outputs": [

      ],
      "source": [
        "ds, info = tfds.load('mnist', with_info=True)"
      ]
    },
    {
      "cell_type": "markdown",
      "metadata": {
        "id": "XodyqNXrlxTM"
      },
      "source": [
        "- `tfds.core.DatasetBuilder` API:"
      ]
    },
    {
      "cell_type": "code",
      "execution_count": null,
      "metadata": {
        "id": "nmq97QkilxeL"
      },
      "outputs": [

      ],
      "source": [
        "builder = tfds.builder('mnist')\n",
        "info = builder.info"
      ]
    },
    {
      "cell_type": "markdown",
      "metadata": {
        "id": "zMGOk_ZsmPeu"
      },
      "source": [
        "データセット情報には、データセットに関する追加情報 (バージョン、引用、ホームページ、説明など) が含まれています。"
      ]
    },
    {
      "cell_type": "code",
      "execution_count": null,
      "metadata": {
        "id": "O-wLIKD-mZQT"
      },
      "outputs": [

      ],
      "source": [
        "print(info)"
      ]
    },
    {
      "cell_type": "markdown",
      "metadata": {
        "id": "1zvAfRtwnAFk"
      },
      "source": [
        "### 機能のメタデータ (ラベル名、画像の形状など)\n",
        "\n",
        "`tfds.features.FeatureDict`にアクセスします。"
      ]
    },
    {
      "cell_type": "code",
      "execution_count": null,
      "metadata": {
        "id": "RcyZXncqoFab"
      },
      "outputs": [

      ],
      "source": [
        "info.features"
      ]
    },
    {
      "cell_type": "markdown",
      "metadata": {
        "id": "KAm9AV7loyw5"
      },
      "source": [
        "クラス数、ラベル名:"
      ]
    },
    {
      "cell_type": "code",
      "execution_count": null,
      "metadata": {
        "id": "HhfzBH6qowpz"
      },
      "outputs": [

      ],
      "source": [
        "print(info.features[\"label\"].num_classes)\n",
        "print(info.features[\"label\"].names)\n",
        "print(info.features[\"label\"].int2str(7))  # Human readable version (8 -> 'cat')\n",
        "print(info.features[\"label\"].str2int('7'))"
      ]
    },
    {
      "cell_type": "markdown",
      "metadata": {
        "id": "g5eWtk9ro_AK"
      },
      "source": [
        "形状、dtype:"
      ]
    },
    {
      "cell_type": "code",
      "execution_count": null,
      "metadata": {
        "id": "SergV_wQowLY"
      },
      "outputs": [

      ],
      "source": [
        "print(info.features.shape)\n",
        "print(info.features.dtype)\n",
        "print(info.features['image'].shape)\n",
        "print(info.features['image'].dtype)"
      ]
    },
    {
      "cell_type": "markdown",
      "metadata": {
        "id": "thMOZ4IKm55N"
      },
      "source": [
        "### 分割メタデータ (分割名、例の数など)\n",
        "\n",
        "`tfds.core.SplitDict`にアクセスします。"
      ]
    },
    {
      "cell_type": "code",
      "execution_count": null,
      "metadata": {
        "id": "FBbfwA8Sp4ax"
      },
      "outputs": [

      ],
      "source": [
        "print(info.splits)"
      ]
    },
    {
      "cell_type": "markdown",
      "metadata": {
        "id": "EVw1UVYa2HgN"
      },
      "source": [
        "利用可能な分割:"
      ]
    },
    {
      "cell_type": "code",
      "execution_count": null,
      "metadata": {
        "id": "fRBieOOquDzX"
      },
      "outputs": [

      ],
      "source": [
        "print(list(info.splits.keys()))"
      ]
    },
    {
      "cell_type": "markdown",
      "metadata": {
        "id": "iHW0VfA0t3dO"
      },
      "source": [
        "個々の分割に関する情報を取得します。"
      ]
    },
    {
      "cell_type": "code",
      "execution_count": null,
      "metadata": {
        "id": "-h_OSpRsqKpP"
      },
      "outputs": [

      ],
      "source": [
        "print(info.splits['train'].num_examples)\n",
        "print(info.splits['train'].filenames)\n",
        "print(info.splits['train'].num_shards)"
      ]
    },
    {
      "cell_type": "markdown",
      "metadata": {
        "id": "fWhSkHFNuLwW"
      },
      "source": [
        "サブスプリット API でも動作します。"
      ]
    },
    {
      "cell_type": "code",
      "execution_count": null,
      "metadata": {
        "id": "HO5irBZ3uIzQ"
      },
      "outputs": [

      ],
      "source": [
        "print(info.splits['train[15%:75%]'].num_examples)\n",
        "print(info.splits['train[15%:75%]'].file_instructions)"
      ]
    },
    {
      "cell_type": "markdown",
      "metadata": {
        "id": "YZp2XJwQQrI0"
      },
      "source": [
        "## トラブルシューティング\n",
        "\n",
        "### 手動ダウンロード (ダウンロードが失敗した場合)\n",
        "\n",
        "何らかの理由（オフラインなど）でダウンロードが失敗した場合。データを自分でいつでも手動でダウンロードして、 `manual_dir` (デフォルトは`~/tensorflow_datasets/downloads/manual/`に配置できます。\n",
        "\n",
        "ダウンロードする URL を確認するには、次の点を調べてください。\n",
        "\n",
        "- 新しいデータセットの場合 (フォルダーとして実装): [`tensorflow_datasets/`](https://github.com/tensorflow/datasets/tree/master/tensorflow_datasets/) `<type>/<dataset_name>/checksums.tsv` 。例: [`tensorflow_datasets/datasets/bool_q/checksums.tsv`](https://github.com/tensorflow/datasets/blob/master/tensorflow_datasets/datasets/bool_q/checksums.tsv) 。\n",
        "\n",
        "    データセットのソースの場所は[カタログ](https://www.tensorflow.org/datasets/catalog/overview)で見つけることができます。\n",
        "\n",
        "- 古いデータセットの場合: [`tensorflow_datasets/url_checksums/<dataset_name>.txt`](https://github.com/tensorflow/datasets/tree/master/tensorflow_datasets/url_checksums)\n",
        "\n",
        "### `NonMatchingChecksumError`の修正\n",
        "\n",
        "TFDS は、ダウンロードされた URL のチェックサムを検証することで決定性を保証します。 `NonMatchingChecksumError`が発生した場合は、次のことを示している可能性があります。\n",
        "\n",
        "- Web サイトがダウンしている可能性があります (例`503 status code` )。 URLをご確認ください。\n",
        "- Google ドライブの URL の場合は、同じ URL にアクセスする人が多すぎるとドライブがダウンロードを拒否することがあるため、後でもう一度試してください。[バグを](https://github.com/tensorflow/datasets/issues/1482)参照\n",
        "- 元のデータセット ファイルが更新されている可能性があります。この場合、TFDS データセット ビルダーを更新する必要があります。新しい Github の問題または PR を開いてください:\n",
        "    - `tfds build --register_checksums`を使用して新しいチェックサムを登録します。\n",
        "    - 最終的にはデータセット生成コードを更新します。\n",
        "    - データセットの`VERSION`を更新します\n",
        "    - データセットを更新します`RELEASE_NOTES` : チェックサムが変更された原因は何ですか?いくつかの例は変更されましたか?\n",
        "    - データセットがまだ構築できることを確認してください。\n",
        "    - PRを送信してください\n",
        "\n",
        "注: `~/tensorflow_datasets/download/`でダウンロードしたファイルを検査することもできます。\n"
      ]
    },
    {
      "cell_type": "markdown",
      "metadata": {
        "id": "GmeeOokMODg2"
      },
      "source": [
        "## 引用\n",
        "\n",
        "論文に`tensorflow-datasets`使用している場合は、使用したデータセット ([データセット カタログ](https://www.tensorflow.org/datasets/catalog/overview)で見つけることができます) に固有の引用に加えて、次の引用を含めてください。\n",
        "\n",
        "```\n",
        "@misc{TFDS,\n",
        "  title = { {TensorFlow Datasets}, A collection of ready-to-use datasets},\n",
        "  howpublished = {\\url{https://www.tensorflow.org/datasets}},\n",
        "}\n",
        "```"
      ]
    }
  ],
  "metadata": {
    "colab": {
      "collapsed_sections": [

      ],
      "name": "overview.ipynb",
      "toc_visible": true
    },
    "kernelspec": {
      "display_name": "Python 3",
      "name": "python3"
    }
  },
  "nbformat": 4,
  "nbformat_minor": 0
}
